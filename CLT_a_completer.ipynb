{
  "nbformat": 4,
  "nbformat_minor": 0,
  "metadata": {
    "colab": {
      "name": "CLT_a_completer.ipynb",
      "provenance": [],
      "collapsed_sections": [],
      "toc_visible": true,
      "authorship_tag": "ABX9TyNTYUV82fgojTKQ6Cux43jf",
      "include_colab_link": true
    },
    "kernelspec": {
      "name": "python3",
      "display_name": "Python 3"
    },
    "language_info": {
      "name": "python"
    }
  },
  "cells": [
    {
      "cell_type": "markdown",
      "metadata": {
        "id": "view-in-github",
        "colab_type": "text"
      },
      "source": [
        "<a href=\"https://colab.research.google.com/github/JohannRannou/DimensionnementVelo/blob/master/CLT_a_completer.ipynb\" target=\"_parent\"><img src=\"https://colab.research.google.com/assets/colab-badge.svg\" alt=\"Open In Colab\"/></a>"
      ]
    },
    {
      "cell_type": "markdown",
      "metadata": {
        "id": "TdN77JCr-Bil"
      },
      "source": [
        "# Mise en œuvre du module de CLT\n",
        "\n",
        "Il y a  ici un certain nombre de fonctions destinées à faire les calculs élémentaires à réaliser les différentes opérations nécessaires traiter la CLT.\n",
        "\n",
        "Ces fonctions de ne sont pas terminée, elles comportent des \"trous\" matérialiés par des ...\n",
        "\n",
        "À vous de compléter à partir de votre compréhension du cours.\n",
        "\n"
      ]
    },
    {
      "cell_type": "markdown",
      "metadata": {
        "id": "dK9ei_F0n-Kq"
      },
      "source": [
        "\n",
        "\n",
        "Plus bas dans le notebook il y a la section \"Test du module\". Elle va vous permettre de valider votre implémentation à partir d'une solution de référence. Pour cela, il vous faut activer le flag de debug :\n",
        "\n",
        "    DEBUG = True\n",
        "\n",
        "Quand il sera validé, pour pourrez le désactivé pour éviter des affichages inutiles :\n",
        "\n",
        "    DEBUG = False"
      ]
    },
    {
      "cell_type": "code",
      "metadata": {
        "id": "7qtACBfqoaUu"
      },
      "source": [
        "DEBUG = True\n"
      ],
      "execution_count": null,
      "outputs": []
    },
    {
      "cell_type": "markdown",
      "metadata": {
        "id": "roIm9Su_NC30"
      },
      "source": [
        "## Initialisation diverses"
      ]
    },
    {
      "cell_type": "code",
      "metadata": {
        "id": "_uMPupHESbwV"
      },
      "source": [
        "from numpy import *\n",
        "from numpy.linalg import *\n",
        "from matplotlib.pyplot import *\n",
        "from matplotlib.patches import Rectangle"
      ],
      "execution_count": null,
      "outputs": []
    },
    {
      "cell_type": "code",
      "metadata": {
        "id": "pCuX3gJPSRTq"
      },
      "source": [
        "#Ne pas changer la valeur de cette variable\n",
        "DEBUG_DICT = {}\n",
        "\n",
        "#Pour formatter l'affichage des matrices\n",
        "set_printoptions(suppress=True,formatter={'float': '{: 0.2e}'.format})\n"
      ],
      "execution_count": null,
      "outputs": []
    },
    {
      "cell_type": "markdown",
      "metadata": {
        "id": "fvxsHRAJNGXl"
      },
      "source": [
        "## Calcul de la matrice ABBD"
      ]
    },
    {
      "cell_type": "code",
      "metadata": {
        "id": "eeYpE2rZSXIN"
      },
      "source": [
        "def compute_ABBD(prop, lay_up):\n",
        "    \"\"\"Calcule la matrice ABBD\n",
        "\n",
        "    Arguments:\n",
        "        prop (dict): propriétés matériaux\n",
        "        lay_up (list[int]): liste des angles du stratifié\n",
        "    \"\"\"\n",
        "\n",
        "    #On boucle sur les plis pour calculer chaque terme de la matrice ABBD\n",
        "    A=zeros((3,3))\n",
        "    B=zeros((3,3))\n",
        "    D=zeros((3,3))\n",
        "\n",
        "    h=prop['thickness']\n",
        "    \n",
        "    # Dans la boucle ci-dessous, i est l'indice du pli (commence à 0) et angle\n",
        "    # sera l'angle \n",
        "    for k, angle in enumerate(lay_up):\n",
        "        # Calcul des hauteurs  h et h+1 du pli courant\n",
        "        # la fonction compute_ply_heights est déjà remplie pour vous, mais\n",
        "        # ça ne vous empêche pas d'y jeter un coup d'oeil ...\n",
        "        h_k, h_kp1=compute_ply_heights(k, prop['thickness'], len(lay_up))\n",
        "\n",
        "        # Calcule la matrice de raideur du pli courant dans le repère global\n",
        "        Qg = computeGlobalQ(prop, angle) \n",
        "\n",
        "        # Calcul de A, composante par composante\n",
        "        for i in range(3):\n",
        "            for j in range(3):\n",
        "                A[i,j] = A[i,j] + Qg[i,j]*(...)\n",
        "\n",
        "        # Calcul de B, composante par composante\n",
        "        for i in range(3):\n",
        "            for j in range(3):\n",
        "                B[i,j] = B[i,j] + Qg[i,j]*(...))\n",
        "\n",
        "        # Calcul de D, composante par composante\n",
        "        for i in range(3):\n",
        "            for j in range(3):\n",
        "                D[i,j] = D[i,j]+ Qg[i,j]*(...)\n",
        "\n",
        "    #Assemblage de la matrice ABBD à partir des matrices élémentaires A,B et D\n",
        "    ABBD=vstack( (hstack((A,B)),hstack((B,D))) )\n",
        "\n",
        "    # Subsidiaire : la matrice ABBD telle qu'elle serait obtenue avec la\n",
        "    # convention de Voigt\n",
        "    ABBDVoigt=ABBD.copy()\n",
        "    ABBDVoigt[ix_([2,5],[0,1,3,4])]*=1./sqrt(2)\n",
        "    ABBDVoigt[ix_([2,5],[2,5])]*=1./2.\n",
        "    ABBDVoigt[ix_([0,1,3,4],[2,5])]*=1./sqrt(2)\n",
        "\n",
        "    if DEBUG:\n",
        "        global DEBUG_DICT\n",
        "        s = 'ABBD'\n",
        "        if s not in DEBUG_DICT.keys():\n",
        "            print('DEBUG dans compute_ABBD()')\n",
        "            print(s,'=\\n',ABBD)\n",
        "            print()\n",
        "            DEBUG_DICT[s]='printed'\n",
        "        \n",
        "    return ABBD"
      ],
      "execution_count": null,
      "outputs": []
    },
    {
      "cell_type": "markdown",
      "metadata": {
        "id": "bPjKBp0qNJnQ"
      },
      "source": [
        "## Calcul automatique de $h_i$ et $h_{i+1}$ "
      ]
    },
    {
      "cell_type": "code",
      "metadata": {
        "id": "K6WGYRncSfet"
      },
      "source": [
        "def compute_ply_heights(i, thickness, nb_plies):\n",
        "    \"\"\"Calcule la hauteur inférieure et supérieure du pli.\n",
        "       on a besoin du nombre total de pli pour savoir positionner chaque pli\n",
        "       par rapport à une ligne moyenne\n",
        "    Notes:\n",
        "        Il n'y a rien à compléter ici\n",
        "    \n",
        "    \"\"\"\n",
        "\n",
        "    #décalage par rapport à la ligne moyenne\n",
        "    h = -nb_plies*thickness/2.\n",
        "\n",
        "    h = h + i*thickness\n",
        "    hp1 = h + thickness\n",
        "\n",
        "    return h, hp1"
      ],
      "execution_count": null,
      "outputs": []
    },
    {
      "cell_type": "markdown",
      "metadata": {
        "id": "2XVlzppVNU4A"
      },
      "source": [
        "## Calcul de $Q$ dans la base matériaux"
      ]
    },
    {
      "cell_type": "code",
      "metadata": {
        "id": "ApqrAWRMShpq"
      },
      "source": [
        "def computeMaterialQ(prop):\n",
        "    \"\"\"Calcule et retourne la matrice de rigidité dans le repère matériau\n",
        "    \"\"\"\n",
        "    #On commence par calculer S puis on l'inversera. C'est plus simple\n",
        "\n",
        "    El = prop['El']\n",
        "    Et = prop['Et']\n",
        "    nult = prop['nult']\n",
        "    Glt = prop['Glt']\n",
        "\n",
        "\n",
        "    S=zeros((3,3))\n",
        "    S[0,0] = ...\n",
        "    S[0,1] = ...\n",
        "    ...\n",
        "\n",
        "    Qm=inv(S)\n",
        "    \n",
        "    if DEBUG:\n",
        "        global DEBUG_DICT\n",
        "        s = 'Qm'\n",
        "        if s not in DEBUG_DICT.keys():\n",
        "            print('DEBUG dans computeMaterialQ()')\n",
        "            print(s,'=\\n',Qm)\n",
        "            print()\n",
        "            DEBUG_DICT[s]='printed'\n",
        "\n",
        "    return Qm"
      ],
      "execution_count": null,
      "outputs": []
    },
    {
      "cell_type": "markdown",
      "metadata": {
        "id": "1Isp9PE1NbEw"
      },
      "source": [
        "## Calcul de la matrice de rotation\n",
        "\n",
        "Rappel :  Les matrices de rotation $P$ et son inverse $P^{-1}$ sont définies comme dans le cours et sont telles que :\n",
        "\n",
        "$$Q^m=P^{-1}.Q^g.P$$\n",
        "    "
      ]
    },
    {
      "cell_type": "code",
      "metadata": {
        "id": "9vvbH7DpSj4J"
      },
      "source": [
        "def computeRotationMatrix(angle):\n",
        "    \"\"\" Retourne la matrice de rotation en convention de Mandel \n",
        "    et en contraintes plannes\n",
        "\n",
        "    Note:\n",
        "        angle en degrés\n",
        "\n",
        "    Les matrices de rotation P et son inverse Pi sont définies comme\n",
        "    dans le cours et sont telles que\n",
        "    :math:`Q^m=Pi.Q^g.P`\n",
        "    \"\"\"\n",
        "\n",
        "    c=cos(angle*pi/180.)\n",
        "    s=sin(angle*pi/180.)\n",
        "\n",
        "    Pi=zeros((3,3))\n",
        "\n",
        "    Pi[0,0] = ...\n",
        "    Pi[0,1] = ...\n",
        "    Pi[0,2] = ...\n",
        "    ...\n",
        "\n",
        "    P=inv(Pi)\n",
        "\n",
        "    if DEBUG:\n",
        "        global DEBUG_DICT\n",
        "        s = 'P pour angle {}'.format(angle)\n",
        "        if s not in DEBUG_DICT.keys():\n",
        "            print('DEBUG dans computeRotationMatrix()')\n",
        "            print(s,'=\\n',P)\n",
        "            print()\n",
        "            DEBUG_DICT[s]='printed'\n",
        "\n",
        "    return P,Pi"
      ],
      "execution_count": null,
      "outputs": []
    },
    {
      "cell_type": "markdown",
      "metadata": {
        "id": "lPUlYCPTN3yN"
      },
      "source": [
        "## Calcul de $Q$ dans le repère global"
      ]
    },
    {
      "cell_type": "code",
      "metadata": {
        "id": "fbP9hHluSnAb"
      },
      "source": [
        "\n",
        "\n",
        "def computeGlobalQ(prop, angle):\n",
        "    \"\"\"Retourne la matrice de raideur dans le repère global\n",
        "\n",
        "    On rappelle que pour faire un produit de matrice AB, il faut \n",
        "    faire ``A @ B``. Du coup, pour faire un produit de \n",
        "    3 matrices ABC, il faut faire ``dot(A, dot(B, C))``\n",
        "\n",
        "    \"\"\"\n",
        "    #Calcule la matrice de raideur dans le repère matériau\n",
        "    Qm = computeMaterialQ(prop)\n",
        "    P, Pi = computeRotationMatrix(angle)\n",
        "\n",
        "    Qg = ...\n",
        "\n",
        "    if DEBUG:\n",
        "        global DEBUG_DICT\n",
        "        s = 'Qg pour angle {}'.format(angle)\n",
        "        if s not in DEBUG_DICT.keys():\n",
        "            print('DEBUG dans computeGlobalQ()')\n",
        "            print(s,'=\\n',Qg)\n",
        "            print()\n",
        "            DEBUG_DICT[s]='printed'\n",
        "\n",
        "\n",
        "    return Qg\n"
      ],
      "execution_count": null,
      "outputs": []
    },
    {
      "cell_type": "markdown",
      "metadata": {
        "id": "U2O0ifp8O9xw"
      },
      "source": [
        "## Calcul des déformations $\\varepsilon_0$ et $\\kappa$"
      ]
    },
    {
      "cell_type": "code",
      "metadata": {
        "id": "-3ljqcksSqTY"
      },
      "source": [
        "def compute_macroscopic_strains(N, M, ABBD):\n",
        "    \"\"\"Calcule les déformations macro :math:`\\epsilon_0` et :math:`\\kappa`\n",
        "\n",
        "    La charge appliquée est composée des 2 vecteurs :\n",
        "\n",
        "    Args:\n",
        "        N(vecteur de taille 3): les forces généralisées en convention de Mandel\n",
        "        M(vecteur de taille 3): les moments généralisés en convention de Mandel\n",
        "\n",
        "    Returns:\n",
        "        2 vecteurs de taille 3 ( :math:`\\epsilon_0` et :math:`\\kappa` ) en \n",
        "        convention de Mandel\n",
        "    \"\"\"\n",
        "\n",
        "    NM=hstack((N,M))\n",
        "\n",
        "    epsilon= inv(ABBD) ... NM\n",
        "\n",
        "    epsilon0=epsilon[0:3]\n",
        "    kappa=epsilon[3:6]\n",
        "        \n",
        "    if DEBUG:\n",
        "        global DEBUG_DICT\n",
        "        s = 'epsilon0, kappa'\n",
        "        if s not in DEBUG_DICT.keys():\n",
        "            print('DEBUG dans compute_macroscopic_strains()')\n",
        "            print(s,'=\\n',epsilon0,'\\n', kappa)\n",
        "            print()\n",
        "            DEBUG_DICT[s]='printed'\n",
        "\n",
        "    return epsilon0, kappa\n",
        "    "
      ],
      "execution_count": null,
      "outputs": []
    },
    {
      "cell_type": "markdown",
      "metadata": {
        "id": "EUTzuZZEPK6p"
      },
      "source": [
        "## Calcul de $\\varepsilon$ dans le repère global"
      ]
    },
    {
      "cell_type": "code",
      "metadata": {
        "id": "v52P_ag8PRIQ"
      },
      "source": [
        "def computeEpsilonGlobal(epsilon0, kappa, z):\n",
        "    \"\"\"Retourne les déformations dans le repère global à une abscisse z. \n",
        "\n",
        "    Convention de Mandel -> vecteur de taille 3 : e11, e22, sqrt(2)e12.\n",
        "    \"\"\"\n",
        "\n",
        "    epsilon_global = ...\n",
        "    \n",
        "    return epsilon_global"
      ],
      "execution_count": null,
      "outputs": []
    },
    {
      "cell_type": "markdown",
      "metadata": {
        "id": "jm3pCndxPTjg"
      },
      "source": [
        "## Calcul de $\\varepsilon$ dans le repère matériau\n"
      ]
    },
    {
      "cell_type": "code",
      "metadata": {
        "id": "iVGoE6NFPYdm"
      },
      "source": [
        "def computeEpsilonMaterial(angle, epsilon0, kappa, z):\n",
        "    \"\"\"Retourne les déformations dans le repère local à une abscisse z.\n",
        "\n",
        "    Convention de Mandel -> vecteur de taille 3 : e11, e22, sqrt(2)e12.\n",
        "\n",
        "    On se sert de la matrice de rotation du pli ou de son inverse (telle que \n",
        "    défini dans le cours) pour la calculer\n",
        "    \"\"\"\n",
        "\n",
        "    P, Pi = computeRotationMatrix(angle)\n",
        "    epsilonGlobal = computeEpsilonGlobal(epsilon0, kappa, z)\n",
        "\n",
        "    # Rappel de syntaxe : multiplication matrice vecteur : C = dot(A,B)    \n",
        "    epsilonMaterial = ...\n",
        "\n",
        "    return epsilonMaterial"
      ],
      "execution_count": null,
      "outputs": []
    },
    {
      "cell_type": "markdown",
      "metadata": {
        "id": "-XRrPCAFPaNj"
      },
      "source": [
        "## Calcul de $\\sigma$ dans le repère matériau"
      ]
    },
    {
      "cell_type": "code",
      "metadata": {
        "id": "0iIChtRQPf7O"
      },
      "source": [
        "def computeSigmaMaterial(epsilon0, kappa, z, prop, angle):\n",
        "    \"\"\"Retourne les contraintes dans le repère local à une abscisse z.\n",
        "\n",
        "    vecteur de taille 3 : s11, s22, sqrt(2)s12)\n",
        "    \"\"\"\n",
        "\n",
        "    epsilonMaterial=computeEpsilonMaterial(angle, epsilon0, kappa, z)\n",
        "    Qm = computeMaterialQ(prop)\n",
        "\n",
        "    sigmaMaterial = ...\n",
        "\n",
        "    return sigmaMaterial"
      ],
      "execution_count": null,
      "outputs": []
    },
    {
      "cell_type": "markdown",
      "metadata": {
        "id": "aWui_6A2Pif6"
      },
      "source": [
        "## Calcul du critère de rupture de Wu"
      ]
    },
    {
      "cell_type": "code",
      "metadata": {
        "id": "1aw9uQjyPmks"
      },
      "source": [
        "def computeFailureCriterion(epsilon0, kappa, z, prop, angle):\n",
        "    \"\"\"Retourne le critère de rupture de Tsai-Wu  à une abscisse z. \n",
        "    \"\"\"\n",
        "\n",
        "    sigmaMaterial=computeSigmaMaterial(epsilon0, kappa, z, prop, angle)\n",
        "\n",
        "    s11=sigmaMaterial[0]\n",
        "    s22=sigmaMaterial[1]\n",
        "    s12=sigmaMaterial[2]/sqrt(2)\n",
        "\n",
        "    #Critère de Tsai-Wu\n",
        "    Xt=prop['Xt']\n",
        "    Xc=prop['Xc']\n",
        "    Yt=prop['Yt']\n",
        "    Yc=prop['Yc']\n",
        "    Sc=prop['Sc']\n",
        "\n",
        "    f1 = ...\n",
        "    f2 = ...\n",
        "    f6 = ...\n",
        "    F11 = ...\n",
        "    F22 = ...\n",
        "    F12 = ...\n",
        "    F66 = ...\n",
        "    TsaiWu = ...\n",
        "\n",
        "    return TsaiWu"
      ],
      "execution_count": null,
      "outputs": []
    },
    {
      "cell_type": "markdown",
      "metadata": {
        "id": "w1fmwNsdPq83"
      },
      "source": [
        "## Fonctions de tracé\n",
        "\n",
        "**Vous n'avez pas à y intervenir**"
      ]
    },
    {
      "cell_type": "code",
      "metadata": {
        "id": "jBDGDmaZSsbC"
      },
      "source": [
        "def plotEpsilonMacro(epsilon0, kappa, prop, lay_up):\n",
        "    \"\"\"\n",
        "    Réalise un bel affichage des déformations Macro (les trois composantes dans\n",
        "    le repère global) dans l'épaisseur du stratifié\n",
        "    \"\"\"\n",
        "    figure('epsilon macro')\n",
        "    title('epsilon macro')\n",
        "\n",
        "    #Pour chaque pli on rajoute une ligne\n",
        "    for i, angle in enumerate(lay_up):\n",
        "\n",
        "        # Calcul des hauteurs  h et h+1 du le pli courant\n",
        "        # C'est comme dans le calcul de ABBD\n",
        "        h_k, h_kp1=compute_ply_heights(i, prop['thickness'], len(lay_up))\n",
        "\n",
        "        epsilon_h_k=computeEpsilonGlobal(epsilon0, kappa, h_k)\n",
        "        epsilon_h_kp1=computeEpsilonGlobal(epsilon0, kappa, h_kp1)\n",
        "\n",
        "        plot([epsilon_h_k[0],epsilon_h_kp1[0]],[h_k,h_kp1],'-o',lw=4,\n",
        "             ms=10,alpha=0.8,label=r'$\\varepsilon_{xx}$',color='r')\n",
        "        plot([epsilon_h_k[1],epsilon_h_kp1[1]],[h_k,h_kp1],'-s',lw=4,\n",
        "             ms=10,alpha=0.8,label=r'$\\varepsilon_{yy}$',color='b')\n",
        "        plot([epsilon_h_k[2]/sqrt(2),epsilon_h_kp1[2]/sqrt(2)],[h_k,h_kp1],\n",
        "             '-<',lw=4,ms=10,alpha=0.8,label=r'$\\varepsilon_{xy}$',color='y')\n",
        "        \n",
        "    xlabel(r'$\\varepsilon$ dans le repere global',fontsize=14)\n",
        "\n",
        "    addDecorationToPlot(lay_up, prop)\n",
        "    # savefig('eg.pdf')\n",
        "\n",
        "\n",
        "def plotEpsilonPerPly(epsilon0, kappa, prop, lay_up):\n",
        "    \"\"\"            \n",
        "    Réalise un bel affichage des déformations dans chaque pli dans le repère \n",
        "    matériau (les trois composantes) dans l'épaisseur du stratifié\n",
        "    \"\"\"\n",
        "    figure('epsilon (base materiau)')\n",
        "    title('epsilon (base materiau)')\n",
        "\n",
        "    for i, angle in enumerate(lay_up):\n",
        "        #Calcul des hauteurs h et h+1 du le pli courant \n",
        "        h_k, h_kp1 = compute_ply_heights(i, prop['thickness'], len(lay_up))\n",
        "\n",
        "        epsilon_h_k_m=computeEpsilonMaterial(angle, epsilon0, kappa, h_k)\n",
        "        epsilon_h_kp1_m=computeEpsilonMaterial(angle, epsilon0, kappa, h_kp1)\n",
        "\n",
        "\n",
        "        plot([epsilon_h_k_m[0],epsilon_h_kp1_m[0]],[h_k,h_kp1],'-o',lw=4,ms=10,\n",
        "             alpha=0.8,label=r'$\\varepsilon_{11}$',color='r')\n",
        "        plot([epsilon_h_k_m[1],epsilon_h_kp1_m[1]],[h_k,h_kp1],'-s',lw=4,ms=10,\n",
        "             alpha=0.8,label=r'$\\varepsilon_{22}$',color='b')\n",
        "        plot([epsilon_h_k_m[2]/sqrt(2),epsilon_h_kp1_m[2]/sqrt(2)],[h_k,h_kp1],\n",
        "             '-<',lw=4,ms=10,alpha=0.8,label=r'$\\varepsilon_{12}$',color='y')\n",
        "\n",
        "    addDecorationToPlot(lay_up, prop)\n",
        "    xlabel(r'$\\varepsilon$ dans le repere materiau',fontsize=14)\n",
        "    # savefig('em.pdf')\n",
        "\n",
        "\n",
        "\n",
        "\n",
        "def plotStressPerPly(epsilon0, kappa, prop, lay_up):\n",
        "    \"\"\"\n",
        "    Réalise un bel affichage des contraintes dans chaque pli dans le \n",
        "    repère matériau (les trois composantes) dans l'épaisseur du stratifié\n",
        "    \"\"\"\n",
        "    figure('contrainte (base materiau)')\n",
        "    title('contrainte (base materiau)')\n",
        "\n",
        "    for i, angle in enumerate(lay_up):\n",
        "        #Calcul des hauteurs h et h+1 du le pli courant \n",
        "        h_k, h_kp1 = compute_ply_heights(i, prop['thickness'], len(lay_up))\n",
        "\n",
        "        sigma_h_k_m = computeSigmaMaterial(epsilon0, kappa, h_k, prop, angle)\n",
        "        sigma_h_kp1_m = computeSigmaMaterial(epsilon0, kappa, h_kp1, prop, angle)\n",
        "\n",
        "\n",
        "        plot([sigma_h_k_m[0], sigma_h_kp1_m[0]], [h_k,h_kp1], '-o', lw=4, ms=10,\n",
        "             alpha=0.8,label=r'$\\sigma_{11}$',color='r')\n",
        "        plot([sigma_h_k_m[1],sigma_h_kp1_m[1]],[h_k,h_kp1],'-s',lw=4,ms=10,\n",
        "             alpha=0.8,label=r'$\\sigma_{22}$',color='b')\n",
        "        plot([sigma_h_k_m[2]/sqrt(2),sigma_h_kp1_m[2]/sqrt(2)],[h_k,h_kp1],\n",
        "             '-<',lw=4,ms=10,alpha=0.8,label=r'$\\sigma_{12}$',color='y')\n",
        "\n",
        "    addDecorationToPlot(lay_up, prop)\n",
        "    xlabel(r'$\\sigma$ dans le repere materiau',fontsize=14)\n",
        "    # savefig('sm.pdf')\n",
        "\n",
        "\n",
        "\n",
        "def plotFailureCriterion(epsilon0, kappa, prop, lay_up):\n",
        "    \"\"\"\n",
        "    Réalise un bel affichage du critère de rupture  dans chaque pli.\n",
        "    \"\"\"\n",
        "    figure('critere de rupture')\n",
        "    title('critere de rupture')\n",
        "\n",
        "\n",
        "    for i, angle in enumerate(lay_up):\n",
        "        #Calcul des hauteurs h et h+1 du le pli courant \n",
        "        h_k, h_kp1 = compute_ply_heights(i, prop['thickness'], len(lay_up))\n",
        "\n",
        "        zArray=linspace(h_k, h_kp1, 25)\n",
        "\n",
        "        valeursCritere=empty_like(zArray)\n",
        "        for i,z in enumerate(zArray):\n",
        "            valeursCritere[i] = computeFailureCriterion(epsilon0, kappa, z,\n",
        "                                                        prop, angle)\n",
        "\n",
        "        plot(valeursCritere,zArray,'-',lw=4,ms=10,alpha=0.8,\n",
        "             label=u'critère de ruture',color='r')\n",
        "\n",
        "    addDecorationToPlot(lay_up, prop)\n",
        "    addFailureCriterionDecorationToPlot(lay_up, prop)\n",
        "    xlabel(u'critère de rupture',fontsize=14)\n",
        "    # savefig('cr.pdf')\n",
        "\n",
        "\n",
        "def addDecorationToPlot(lay_up, prop):\n",
        "    \"\"\"\n",
        "    Ajoute les décorations aux graphiques \n",
        "    \"\"\"\n",
        "    #Donne les bornes actuelles du graphique\n",
        "    x0,x1,y0,y1 = axis()\n",
        "\n",
        "    currentAxis = gca()\n",
        "\n",
        "    #Pour limiter le nombre de légendes aux 3 premières\n",
        "    handles, labels = currentAxis.get_legend_handles_labels()\n",
        "    legend(handles[:3], labels[:3],loc='lower right')\n",
        "\n",
        "\n",
        "    for i, angle in enumerate(lay_up):\n",
        "        #Calcul des hauteurs  h et h+1 du le pli courant \n",
        "        h_k, h_kp1=compute_ply_heights(i, prop['thickness'], len(lay_up))\n",
        "\n",
        "        currentAxis.add_patch(Rectangle((x0,h_k), x1-x0, prop['thickness'],\n",
        "                                        alpha=0.3,facecolor='#BBBBBB',\n",
        "                                        edgecolor='k', linewidth=2))\n",
        "\n",
        "        text(x0+(x1-x0)*0.025, h_k+prop['thickness']/2., 'Pli '+str(i+1)+' : '+\n",
        "             str(angle)+u'°', ha='left')\n",
        "\n",
        "\n",
        "def addFailureCriterionDecorationToPlot(lay_up, prop):\n",
        "    \"\"\"\n",
        "    Ajoute une zone rouge quand le critère est atteint\n",
        "    \"\"\"\n",
        "    #Donne les bornes actuelles du graphique\n",
        "    x0,x1,y0,y1=axis()\n",
        "\n",
        "    currentAxis = gca()\n",
        "\n",
        "    #On ne trace pas la legende\n",
        "    legend().set_visible(False)\n",
        "\n",
        "    #On rajoute les rectangles rouges\n",
        "\n",
        "    for i, angle in enumerate(lay_up):\n",
        "        #Calcul des hauteurs h et h+1 du le pli courant \n",
        "        h_k, h_kp1 = compute_ply_heights(i, prop['thickness'], len(lay_up))\n",
        "\n",
        "        currentAxis.add_patch(Rectangle((1.,h_k), x1-1., prop['thickness'],\n",
        "                                        alpha=0.3, facecolor='#BB0000'))\n",
        "\n",
        "\n",
        "def polar_negative(x, y, **kwargs):\n",
        "    \"\"\"\n",
        "    Depuis la version 1.2.1 de matplotlib, polar ne trace plus les valeurs \n",
        "    négatives.\n",
        "    Ici on trace les valeurs négatives, mais en pointillé.\n",
        "    \"\"\"\n",
        "\n",
        "    # ax = kwargs.pop('ax', gca())\n",
        "    # ls = kwargs.pop('ls')\n",
        "    neg_filter = y<0\n",
        "    pos_filter = np.logical_not(neg_filter)\n",
        "    base_line, = polar(x[pos_filter], y[pos_filter], **kwargs)\n",
        "    # polar(x+pi/180., -y, ls='--', color=base_line.get_color())\n",
        "    polar(x[neg_filter], -y[neg_filter], ls='--', color=base_line.get_color())\n",
        "\n",
        "\n",
        "\n",
        "\n",
        "def trace_diagramme_polaire(prop, lay_up, inverse=False):\n",
        "\n",
        "    \"\"\"\n",
        "    Trace les diagrammes polaires de la matrice ABBD\n",
        "\n",
        "    inverse = True : on trace alors les composantes de souplesse au lieu de raideur\n",
        "    \"\"\"\n",
        "\n",
        "    global DEBUG\n",
        "    store_DEBUG = DEBUG\n",
        "\n",
        "\n",
        "    DEBUG = False\n",
        "    \n",
        "    # On fait tourner le stratifié entre 0° et 360° pour tracer les diagrammes polaires\n",
        "    alpha=linspace(0.,360.,361)\n",
        "    ABBD=empty((361,6,6))\n",
        "    for i, a in enumerate(alpha):\n",
        "        lay_up_a = [x-a for x in lay_up]\n",
        "        ABBD_i = compute_ABBD(prop, lay_up_a)\n",
        "        ABBD[i,:,:] = ABBD_i\n",
        "        dot = ''\n",
        "        if inverse:\n",
        "            ABBD[i,:,:]=inv(ABBD[i,:,:])\n",
        "            dot = '\\overline'\n",
        "            \n",
        "  \n",
        "    figure('Matrice A')\n",
        "\n",
        "    polar_negative(alpha*pi/180.,ABBD[:,0,0], ls='-',label='$'+dot+'{A}_{11}$',lw=2.,alpha=1., zorder=-1)\n",
        "    polar_negative(alpha*pi/180.,ABBD[:,0,1], ls='-',label='$'+dot+'{A}_{12}$',lw=2.,alpha=1., zorder=-2)\n",
        "    polar_negative(alpha*pi/180.,ABBD[:,0,2], ls='-',label='$'+dot+'{A}_{16}$',lw=2.,alpha=1., zorder=-3)\n",
        "    polar_negative(alpha*pi/180.,ABBD[:,1,1], ls='-',label='$'+dot+'{A}_{22}$',lw=2.,alpha=1., zorder=-4)\n",
        "    polar_negative(alpha*pi/180.,ABBD[:,1,2], ls='-',label='$'+dot+'{A}_{26}$',lw=2.,alpha=1., zorder=-5)\n",
        "    polar_negative(alpha*pi/180.,ABBD[:,2,2], ls='-',label='$'+dot+'{A}_{66}$',lw=2.,alpha=1., zorder=-6)\n",
        "    legend(loc='upper left')\n",
        "    # savefig('A.pdf')\n",
        "\n",
        "    figure('Matrice B')\n",
        "\n",
        "    polar_negative(alpha*pi/180.,ABBD[:,3,0], ls='-',label='$'+dot+'{B}_{11}$',lw=2.,alpha=1., zorder=-1)\n",
        "    polar_negative(alpha*pi/180.,ABBD[:,3,1], ls='-',label='$'+dot+'{B}_{12}$',lw=2.,alpha=1., zorder=-2)\n",
        "    polar_negative(alpha*pi/180.,ABBD[:,3,2], ls='-',label='$'+dot+'{B}_{16}$',lw=2.,alpha=1., zorder=-3)\n",
        "    polar_negative(alpha*pi/180.,ABBD[:,4,1], ls='-',label='$'+dot+'{B}_{22}$',lw=2.,alpha=1., zorder=-4)\n",
        "    polar_negative(alpha*pi/180.,ABBD[:,4,2], ls='-',label='$'+dot+'{B}_{26}$',lw=2.,alpha=1., zorder=-5)\n",
        "    polar_negative(alpha*pi/180.,ABBD[:,5,2], ls='-',label='$'+dot+'{B}_{66}$',lw=2.,alpha=1., zorder=-6)\n",
        "    legend(loc='upper left')\n",
        "   # # savefig('B.pdf')\n",
        "\n",
        "    figure('Matrice D')\n",
        "\n",
        "    polar_negative(alpha*pi/180.,ABBD[:,3,3], ls='-',label='$'+dot+'{D}_{11}$',lw=2.,alpha=1., zorder=-1)\n",
        "    polar_negative(alpha*pi/180.,ABBD[:,3,4], ls='-',label='$'+dot+'{D}_{12}$',lw=2.,alpha=1., zorder=-2)\n",
        "    polar_negative(alpha*pi/180.,ABBD[:,3,5], ls='-',label='$'+dot+'{D}_{16}$',lw=2.,alpha=1., zorder=-3)\n",
        "    polar_negative(alpha*pi/180.,ABBD[:,4,4], ls='-',label='$'+dot+'{D}_{22}$',lw=2.,alpha=1., zorder=-4)\n",
        "    polar_negative(alpha*pi/180.,ABBD[:,4,5], ls='-',label='$'+dot+'{D}_{26}$',lw=2.,alpha=1., zorder=-5)\n",
        "    polar_negative(alpha*pi/180.,ABBD[:,5,5], ls='-',label='$'+dot+'{D}_{66}$',lw=2.,alpha=1., zorder=-6)\n",
        "    legend(loc='upper left')\n",
        "   # # savefig('D.pdf')\n",
        "\n",
        "    DEBUG = store_DEBUG\n",
        "\n",
        "def trace_eps_sig_crit(epsilon0, kappa, prop_pli, lay_up):\n",
        "    \"\"\"Trace les déformation, contrainte et critère à rupture\n",
        "\n",
        "    * Trace les déformations dans le repère global et le repère matériau propre au pli\n",
        "    * Trace les contraintes dans le repère du pli\n",
        "    * Trace le critère de rupture\n",
        "    \"\"\"\n",
        "\n",
        "    \n",
        "    #On trace les déformations macroscopique dans l'épaisseur du stratifié\n",
        "    plotEpsilonMacro(epsilon0, kappa, prop_pli, lay_up)\n",
        "\n",
        "    # On trace les déformations dans chaque pli (dans le repère matériau)\n",
        "    # dans l'épaisseur du stratifié\n",
        "    plotEpsilonPerPly(epsilon0, kappa, prop_pli, lay_up)\n",
        "\n",
        "    # #On trace les contraintes dans chaque pli (dans le repère matériau)\n",
        "    # dans l'épaisseur du stratifié\n",
        "    plotStressPerPly(epsilon0, kappa, prop_pli, lay_up)\n",
        "\n",
        "    # #On trace le critère de rupture de Tsai-Wu\n",
        "    plotFailureCriterion(epsilon0, kappa, prop_pli, lay_up)\n",
        "\n",
        "\n",
        "def trace_crit(epsilon0, kappa, prop_pli, lay_up):\n",
        "    \"\"\"Trace le critère de rupture uniquemet\n",
        "    \"\"\"\n",
        "    # #On trace le critère de rupture de Tsai-Wu\n",
        "    plotFailureCriterion(epsilon0, kappa, prop_pli, lay_up)\n"
      ],
      "execution_count": null,
      "outputs": []
    },
    {
      "cell_type": "markdown",
      "metadata": {
        "id": "e_nl39Oy7rwv"
      },
      "source": [
        " # Test du module"
      ]
    },
    {
      "cell_type": "code",
      "metadata": {
        "id": "aBKaCMXpSxa7"
      },
      "source": [
        "#On définit les propriétés du pli dans un dictionnaire\n",
        "if DEBUG:\n",
        "  prop_pli = {}\n",
        "  prop_pli['El'] = 126000.\n",
        "  prop_pli['Et'] = 11000.\n",
        "  prop_pli['Glt'] = 6600.\n",
        "  prop_pli['nult'] = 0.28\n",
        "  prop_pli['thickness'] = 0.25\n",
        "  #On complète avec les propriétés de rupture\n",
        "  prop_pli['Xt'] = 1950.\n",
        "  prop_pli['Xc'] = -1000.\n",
        "  prop_pli['Yt'] = 48.\n",
        "  prop_pli['Yc'] = -200.\n",
        "  prop_pli['Sc'] = 79.\n",
        "\n",
        "  #On définit la stratification dans une liste\n",
        "  lay_up_A=[0., 90.,  45., 0.]"
      ],
      "execution_count": null,
      "outputs": []
    },
    {
      "cell_type": "markdown",
      "metadata": {
        "id": "0xaA8P_Vpx43"
      },
      "source": [
        "Après avoir éxécuté la cellule suivante, avec DEBUG=True, vous devez obtenir la sortie de référence suivante :\n",
        "```\n",
        "DEBUG dans computeMaterialQ()\n",
        "Qm =\n",
        " [[ 1.27e+05  3.10e+03  0.00e+00]\n",
        " [ 3.10e+03  1.11e+04  0.00e+00]\n",
        " [ 0.00e+00  0.00e+00  1.32e+04]]\n",
        "\n",
        "DEBUG dans computeRotationMatrix()\n",
        "P pour angle 0.0 =\n",
        " [[ 1.00e+00  0.00e+00  0.00e+00]\n",
        " [ 0.00e+00  1.00e+00  0.00e+00]\n",
        " [ 0.00e+00  0.00e+00  1.00e+00]]\n",
        "\n",
        "DEBUG dans computeGlobalQ()\n",
        "Qg pour angle 0.0 =\n",
        " [[ 1.27e+05  3.10e+03  0.00e+00]\n",
        " [ 3.10e+03  1.11e+04  0.00e+00]\n",
        " [ 0.00e+00  0.00e+00  1.32e+04]]\n",
        "\n",
        "[[ 1.27e+05  3.10e+03  0.00e+00]\n",
        " [ 3.10e+03  1.11e+04  0.00e+00]\n",
        " [ 0.00e+00  0.00e+00  1.32e+04]]\n",
        "DEBUG dans computeRotationMatrix()\n",
        "P pour angle 90.0 =\n",
        " [[ 3.75e-33  1.00e+00 -8.66e-17]\n",
        " [ 1.00e+00  3.75e-33  8.66e-17]\n",
        " [ 8.66e-17 -8.66e-17 -1.00e+00]]\n",
        "\n",
        "DEBUG dans computeGlobalQ()\n",
        "Qg pour angle 90.0 =\n",
        " [[ 1.11e+04  3.10e+03  4.52e-13]\n",
        " [ 3.10e+03  1.27e+05  9.57e-12]\n",
        " [ 4.52e-13  9.57e-12  1.32e+04]]\n",
        "\n",
        "[[ 1.27e+05  3.10e+03  0.00e+00]\n",
        " [ 3.10e+03  1.11e+04  0.00e+00]\n",
        " [ 0.00e+00  0.00e+00  1.32e+04]]\n",
        "DEBUG dans computeRotationMatrix()\n",
        "P pour angle 45.0 =\n",
        " [[ 5.00e-01  5.00e-01 -7.07e-01]\n",
        " [ 5.00e-01  5.00e-01  7.07e-01]\n",
        " [ 7.07e-01 -7.07e-01  1.57e-16]]\n",
        "\n",
        "DEBUG dans computeGlobalQ()\n",
        "Qg pour angle 45.0 =\n",
        " [[ 4.26e+04  2.94e+04  4.09e+04]\n",
        " [ 2.94e+04  4.26e+04  4.09e+04]\n",
        " [ 4.09e+04  4.09e+04  6.59e+04]]\n",
        "\n",
        "[[ 1.27e+05  3.10e+03  0.00e+00]\n",
        " [ 3.10e+03  1.11e+04  0.00e+00]\n",
        " [ 0.00e+00  0.00e+00  1.32e+04]]\n",
        "DEBUG dans compute_ABBD()\n",
        "ABBD =\n",
        " [[ 7.69e+04  9.69e+03  1.02e+04  9.86e+02  8.23e+02  1.28e+03]\n",
        " [ 9.69e+03  4.79e+04  1.02e+04  8.23e+02 -2.63e+03  1.28e+03]\n",
        " [ 1.02e+04  1.02e+04  2.64e+04  1.28e+03  1.28e+03  1.65e+03]\n",
        " [ 9.86e+02  8.23e+02  1.28e+03  9.53e+03  3.96e+02  2.13e+02]\n",
        " [ 8.23e+02 -2.63e+03  1.28e+03  3.96e+02  1.69e+03  2.13e+02]\n",
        " [ 1.28e+03  1.28e+03  1.65e+03  2.13e+02  2.13e+02  1.37e+03]]\n",
        "\n",
        "matrice ABBD\n",
        "[[ 7.69e+04  9.69e+03  1.02e+04  9.86e+02  8.23e+02  1.28e+03]\n",
        " [ 9.69e+03  4.79e+04  1.02e+04  8.23e+02 -2.63e+03  1.28e+03]\n",
        " [ 1.02e+04  1.02e+04  2.64e+04  1.28e+03  1.28e+03  1.65e+03]\n",
        " [ 9.86e+02  8.23e+02  1.28e+03  9.53e+03  3.96e+02  2.13e+02]\n",
        " [ 8.23e+02 -2.63e+03  1.28e+03  3.96e+02  1.69e+03  2.13e+02]\n",
        " [ 1.28e+03  1.28e+03  1.65e+03  2.13e+02  2.13e+02  1.37e+03]]\n",
        "\n",
        "```\n",
        "\n",
        "\n"
      ]
    },
    {
      "cell_type": "code",
      "metadata": {
        "id": "lgXH2p3v7zbX"
      },
      "source": [
        "if DEBUG:\n",
        "  ABBD = compute_ABBD(prop_pli, lay_up_A)\n",
        "\n",
        "  # On affiche la matrice ABBD qui a été calculée lors de la création du\n",
        "  # stratifié (ligne précédente)\n",
        "  print('matrice ABBD')\n",
        "  print(ABBD)\n",
        "  print()"
      ],
      "execution_count": null,
      "outputs": []
    },
    {
      "cell_type": "code",
      "metadata": {
        "id": "Z38ryuwW7-u3"
      },
      "source": [
        "if DEBUG:\n",
        "  #On définit un chargement via deux vecteurs N et M\n",
        "  #Et on applique ce chargement\n",
        "  N1=array([1500.,0.,0.])\n",
        "  M1=array([0.,0.,0.])\n",
        "\n",
        "  epsilon0, kappa = compute_macroscopic_strains(N1, M1, ABBD)\n",
        "  print('epsilon0, kappa')\n",
        "  print(epsilon0)\n",
        "  print(kappa)\n",
        "\n",
        "  trace_eps_sig_crit(epsilon0, kappa, prop_pli, lay_up_A)"
      ],
      "execution_count": null,
      "outputs": []
    },
    {
      "cell_type": "code",
      "metadata": {
        "id": "g7VmtbZU8BSq"
      },
      "source": [
        "if DEBUG:\n",
        "  trace_diagramme_polaire(prop_pli, lay_up_A)"
      ],
      "execution_count": null,
      "outputs": []
    },
    {
      "cell_type": "code",
      "metadata": {
        "id": "wYVSY_QzpbFW"
      },
      "source": [
        ""
      ],
      "execution_count": null,
      "outputs": []
    }
  ]
}